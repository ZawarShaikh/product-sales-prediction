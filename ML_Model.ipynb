{
 "cells": [
  {
   "cell_type": "code",
   "execution_count": 1,
   "id": "572578f7",
   "metadata": {},
   "outputs": [],
   "source": [
    "import pandas as pd\n",
    "\n",
    "# Load the dataset into a pandas DataFrame\n",
    "df = pd.read_csv('train.csv')\n"
   ]
  },
  {
   "cell_type": "code",
   "execution_count": 2,
   "id": "1adb65df",
   "metadata": {
    "scrolled": false
   },
   "outputs": [
    {
     "data": {
      "text/html": [
       "<div>\n",
       "<style scoped>\n",
       "    .dataframe tbody tr th:only-of-type {\n",
       "        vertical-align: middle;\n",
       "    }\n",
       "\n",
       "    .dataframe tbody tr th {\n",
       "        vertical-align: top;\n",
       "    }\n",
       "\n",
       "    .dataframe thead th {\n",
       "        text-align: right;\n",
       "    }\n",
       "</style>\n",
       "<table border=\"1\" class=\"dataframe\">\n",
       "  <thead>\n",
       "    <tr style=\"text-align: right;\">\n",
       "      <th></th>\n",
       "      <th>Date</th>\n",
       "      <th>store</th>\n",
       "      <th>product</th>\n",
       "      <th>number_sold</th>\n",
       "    </tr>\n",
       "  </thead>\n",
       "  <tbody>\n",
       "    <tr>\n",
       "      <th>0</th>\n",
       "      <td>2010-01-01</td>\n",
       "      <td>0</td>\n",
       "      <td>0</td>\n",
       "      <td>801</td>\n",
       "    </tr>\n",
       "    <tr>\n",
       "      <th>1</th>\n",
       "      <td>2010-01-02</td>\n",
       "      <td>0</td>\n",
       "      <td>0</td>\n",
       "      <td>810</td>\n",
       "    </tr>\n",
       "    <tr>\n",
       "      <th>2</th>\n",
       "      <td>2010-01-03</td>\n",
       "      <td>0</td>\n",
       "      <td>0</td>\n",
       "      <td>818</td>\n",
       "    </tr>\n",
       "    <tr>\n",
       "      <th>3</th>\n",
       "      <td>2010-01-04</td>\n",
       "      <td>0</td>\n",
       "      <td>0</td>\n",
       "      <td>796</td>\n",
       "    </tr>\n",
       "    <tr>\n",
       "      <th>4</th>\n",
       "      <td>2010-01-05</td>\n",
       "      <td>0</td>\n",
       "      <td>0</td>\n",
       "      <td>808</td>\n",
       "    </tr>\n",
       "  </tbody>\n",
       "</table>\n",
       "</div>"
      ],
      "text/plain": [
       "         Date  store  product  number_sold\n",
       "0  2010-01-01      0        0          801\n",
       "1  2010-01-02      0        0          810\n",
       "2  2010-01-03      0        0          818\n",
       "3  2010-01-04      0        0          796\n",
       "4  2010-01-05      0        0          808"
      ]
     },
     "execution_count": 2,
     "metadata": {},
     "output_type": "execute_result"
    }
   ],
   "source": [
    "df.head()"
   ]
  },
  {
   "cell_type": "code",
   "execution_count": 5,
   "id": "c4c05a56",
   "metadata": {},
   "outputs": [
    {
     "data": {
      "text/plain": [
       "0    32870\n",
       "1    32870\n",
       "2    32870\n",
       "3    32870\n",
       "4    32870\n",
       "5    32870\n",
       "6    32870\n",
       "Name: store, dtype: int64"
      ]
     },
     "execution_count": 5,
     "metadata": {},
     "output_type": "execute_result"
    }
   ],
   "source": [
    "df.store.value_counts()"
   ]
  },
  {
   "cell_type": "code",
   "execution_count": 3,
   "id": "6d5fdd29",
   "metadata": {
    "scrolled": true
   },
   "outputs": [
    {
     "name": "stdout",
     "output_type": "stream",
     "text": [
      "         Date  store  product  number_sold\n",
      "0  2010-01-01      0        0          801\n",
      "1  2010-01-02      0        0          810\n",
      "2  2010-01-03      0        0          818\n",
      "3  2010-01-04      0        0          796\n",
      "4  2010-01-05      0        0          808\n",
      "Date           0\n",
      "store          0\n",
      "product        0\n",
      "number_sold    0\n",
      "dtype: int64\n",
      "               store        product    number_sold\n",
      "count  230090.000000  230090.000000  230090.000000\n",
      "mean        3.000000       4.500000     780.926107\n",
      "std         2.000004       2.872288     204.096737\n",
      "min         0.000000       0.000000     238.000000\n",
      "25%         1.000000       2.000000     722.000000\n",
      "50%         3.000000       4.500000     835.000000\n",
      "75%         5.000000       7.000000     914.000000\n",
      "max         6.000000       9.000000    1205.000000\n"
     ]
    },
    {
     "data": {
      "image/png": "[encoded data removed]",
      "text/plain": [
       "<Figure size 640x480 with 1 Axes>"
      ]
     },
     "metadata": {},
     "output_type": "display_data"
    }
   ],
   "source": [
    "#This is the description of the dataset before ttransforming our Date column into index.\n",
    "\n",
    "\n",
    "# Display the first few rows of the dataset\n",
    "print(df.head())\n",
    "\n",
    "# Check for missing values\n",
    "print(df.isnull().sum())\n",
    "\n",
    "# Visualize the data using scatter plots, histograms, etc.\n",
    "# For example, you can plot the distribution of the 'sold_numbers' column using a histogram:\n",
    "df['number_sold'].hist()\n",
    "\n",
    "# Compute summary statistics\n",
    "print(df.describe())\n"
   ]
  },
  {
   "cell_type": "code",
   "execution_count": 56,
   "id": "566bffbf",
   "metadata": {},
   "outputs": [],
   "source": [
    "# Convert the date column to datetime format and set it as the index\n",
    "df['Date'] = pd.to_datetime(df['Date'])\n",
    "df.set_index('Date', inplace=True)\n",
    "\n",
    "# Create dummy variables for store_id and product_id columns\n",
    "df = pd.get_dummies(df, columns=['store', 'product'])"
   ]
  },
  {
   "cell_type": "code",
   "execution_count": 57,
   "id": "4f0bf51b",
   "metadata": {},
   "outputs": [
    {
     "data": {
      "text/html": [
       "<div>\n",
       "<style scoped>\n",
       "    .dataframe tbody tr th:only-of-type {\n",
       "        vertical-align: middle;\n",
       "    }\n",
       "\n",
       "    .dataframe tbody tr th {\n",
       "        vertical-align: top;\n",
       "    }\n",
       "\n",
       "    .dataframe thead th {\n",
       "        text-align: right;\n",
       "    }\n",
       "</style>\n",
       "<table border=\"1\" class=\"dataframe\">\n",
       "  <thead>\n",
       "    <tr style=\"text-align: right;\">\n",
       "      <th></th>\n",
       "      <th>number_sold</th>\n",
       "      <th>store_0</th>\n",
       "      <th>store_1</th>\n",
       "      <th>store_2</th>\n",
       "      <th>store_3</th>\n",
       "      <th>store_4</th>\n",
       "      <th>store_5</th>\n",
       "      <th>store_6</th>\n",
       "      <th>product_0</th>\n",
       "      <th>product_1</th>\n",
       "      <th>product_2</th>\n",
       "      <th>product_3</th>\n",
       "      <th>product_4</th>\n",
       "      <th>product_5</th>\n",
       "      <th>product_6</th>\n",
       "      <th>product_7</th>\n",
       "      <th>product_8</th>\n",
       "      <th>product_9</th>\n",
       "    </tr>\n",
       "    <tr>\n",
       "      <th>Date</th>\n",
       "      <th></th>\n",
       "      <th></th>\n",
       "      <th></th>\n",
       "      <th></th>\n",
       "      <th></th>\n",
       "      <th></th>\n",
       "      <th></th>\n",
       "      <th></th>\n",
       "      <th></th>\n",
       "      <th></th>\n",
       "      <th></th>\n",
       "      <th></th>\n",
       "      <th></th>\n",
       "      <th></th>\n",
       "      <th></th>\n",
       "      <th></th>\n",
       "      <th></th>\n",
       "      <th></th>\n",
       "    </tr>\n",
       "  </thead>\n",
       "  <tbody>\n",
       "    <tr>\n",
       "      <th>2010-01-01</th>\n",
       "      <td>801</td>\n",
       "      <td>1</td>\n",
       "      <td>0</td>\n",
       "      <td>0</td>\n",
       "      <td>0</td>\n",
       "      <td>0</td>\n",
       "      <td>0</td>\n",
       "      <td>0</td>\n",
       "      <td>1</td>\n",
       "      <td>0</td>\n",
       "      <td>0</td>\n",
       "      <td>0</td>\n",
       "      <td>0</td>\n",
       "      <td>0</td>\n",
       "      <td>0</td>\n",
       "      <td>0</td>\n",
       "      <td>0</td>\n",
       "      <td>0</td>\n",
       "    </tr>\n",
       "    <tr>\n",
       "      <th>2010-01-02</th>\n",
       "      <td>810</td>\n",
       "      <td>1</td>\n",
       "      <td>0</td>\n",
       "      <td>0</td>\n",
       "      <td>0</td>\n",
       "      <td>0</td>\n",
       "      <td>0</td>\n",
       "      <td>0</td>\n",
       "      <td>1</td>\n",
       "      <td>0</td>\n",
       "      <td>0</td>\n",
       "      <td>0</td>\n",
       "      <td>0</td>\n",
       "      <td>0</td>\n",
       "      <td>0</td>\n",
       "      <td>0</td>\n",
       "      <td>0</td>\n",
       "      <td>0</td>\n",
       "    </tr>\n",
       "    <tr>\n",
       "      <th>2010-01-03</th>\n",
       "      <td>818</td>\n",
       "      <td>1</td>\n",
       "      <td>0</td>\n",
       "      <td>0</td>\n",
       "      <td>0</td>\n",
       "      <td>0</td>\n",
       "      <td>0</td>\n",
       "      <td>0</td>\n",
       "      <td>1</td>\n",
       "      <td>0</td>\n",
       "      <td>0</td>\n",
       "      <td>0</td>\n",
       "      <td>0</td>\n",
       "      <td>0</td>\n",
       "      <td>0</td>\n",
       "      <td>0</td>\n",
       "      <td>0</td>\n",
       "      <td>0</td>\n",
       "    </tr>\n",
       "    <tr>\n",
       "      <th>2010-01-04</th>\n",
       "      <td>796</td>\n",
       "      <td>1</td>\n",
       "      <td>0</td>\n",
       "      <td>0</td>\n",
       "      <td>0</td>\n",
       "      <td>0</td>\n",
       "      <td>0</td>\n",
       "      <td>0</td>\n",
       "      <td>1</td>\n",
       "      <td>0</td>\n",
       "      <td>0</td>\n",
       "      <td>0</td>\n",
       "      <td>0</td>\n",
       "      <td>0</td>\n",
       "      <td>0</td>\n",
       "      <td>0</td>\n",
       "      <td>0</td>\n",
       "      <td>0</td>\n",
       "    </tr>\n",
       "    <tr>\n",
       "      <th>2010-01-05</th>\n",
       "      <td>808</td>\n",
       "      <td>1</td>\n",
       "      <td>0</td>\n",
       "      <td>0</td>\n",
       "      <td>0</td>\n",
       "      <td>0</td>\n",
       "      <td>0</td>\n",
       "      <td>0</td>\n",
       "      <td>1</td>\n",
       "      <td>0</td>\n",
       "      <td>0</td>\n",
       "      <td>0</td>\n",
       "      <td>0</td>\n",
       "      <td>0</td>\n",
       "      <td>0</td>\n",
       "      <td>0</td>\n",
       "      <td>0</td>\n",
       "      <td>0</td>\n",
       "    </tr>\n",
       "  </tbody>\n",
       "</table>\n",
       "</div>"
      ],
      "text/plain": [
       "            number_sold  store_0  store_1  store_2  store_3  store_4  store_5  \\\n",
       "Date                                                                            \n",
       "2010-01-01          801        1        0        0        0        0        0   \n",
       "2010-01-02          810        1        0        0        0        0        0   \n",
       "2010-01-03          818        1        0        0        0        0        0   \n",
       "2010-01-04          796        1        0        0        0        0        0   \n",
       "2010-01-05          808        1        0        0        0        0        0   \n",
       "\n",
       "            store_6  product_0  product_1  product_2  product_3  product_4  \\\n",
       "Date                                                                         \n",
       "2010-01-01        0          1          0          0          0          0   \n",
       "2010-01-02        0          1          0          0          0          0   \n",
       "2010-01-03        0          1          0          0          0          0   \n",
       "2010-01-04        0          1          0          0          0          0   \n",
       "2010-01-05        0          1          0          0          0          0   \n",
       "\n",
       "            product_5  product_6  product_7  product_8  product_9  \n",
       "Date                                                               \n",
       "2010-01-01          0          0          0          0          0  \n",
       "2010-01-02          0          0          0          0          0  \n",
       "2010-01-03          0          0          0          0          0  \n",
       "2010-01-04          0          0          0          0          0  \n",
       "2010-01-05          0          0          0          0          0  "
      ]
     },
     "execution_count": 57,
     "metadata": {},
     "output_type": "execute_result"
    }
   ],
   "source": [
    "df.head()"
   ]
  },
  {
   "cell_type": "code",
   "execution_count": 44,
   "id": "d5778b30",
   "metadata": {},
   "outputs": [
    {
     "name": "stdout",
     "output_type": "stream",
     "text": [
      "            number_sold  store_0  store_1  store_2  store_3  store_4  store_5  \\\n",
      "Date                                                                            \n",
      "2010-01-01          801        1        0        0        0        0        0   \n",
      "2010-01-02          810        1        0        0        0        0        0   \n",
      "2010-01-03          818        1        0        0        0        0        0   \n",
      "2010-01-04          796        1        0        0        0        0        0   \n",
      "2010-01-05          808        1        0        0        0        0        0   \n",
      "\n",
      "            store_6  product_0  product_1  product_2  product_3  product_4  \\\n",
      "Date                                                                         \n",
      "2010-01-01        0          1          0          0          0          0   \n",
      "2010-01-02        0          1          0          0          0          0   \n",
      "2010-01-03        0          1          0          0          0          0   \n",
      "2010-01-04        0          1          0          0          0          0   \n",
      "2010-01-05        0          1          0          0          0          0   \n",
      "\n",
      "            product_5  product_6  product_7  product_8  product_9  \n",
      "Date                                                               \n",
      "2010-01-01          0          0          0          0          0  \n",
      "2010-01-02          0          0          0          0          0  \n",
      "2010-01-03          0          0          0          0          0  \n",
      "2010-01-04          0          0          0          0          0  \n",
      "2010-01-05          0          0          0          0          0  \n",
      "number_sold    0\n",
      "store_0        0\n",
      "store_1        0\n",
      "store_2        0\n",
      "store_3        0\n",
      "store_4        0\n",
      "store_5        0\n",
      "store_6        0\n",
      "product_0      0\n",
      "product_1      0\n",
      "product_2      0\n",
      "product_3      0\n",
      "product_4      0\n",
      "product_5      0\n",
      "product_6      0\n",
      "product_7      0\n",
      "product_8      0\n",
      "product_9      0\n",
      "dtype: int64\n",
      "         number_sold        store_0        store_1        store_2  \\\n",
      "count  230090.000000  230090.000000  230090.000000  230090.000000   \n",
      "mean      780.926107       0.142857       0.142857       0.142857   \n",
      "std       204.096737       0.349928       0.349928       0.349928   \n",
      "min       238.000000       0.000000       0.000000       0.000000   \n",
      "25%       722.000000       0.000000       0.000000       0.000000   \n",
      "50%       835.000000       0.000000       0.000000       0.000000   \n",
      "75%       914.000000       0.000000       0.000000       0.000000   \n",
      "max      1205.000000       1.000000       1.000000       1.000000   \n",
      "\n",
      "             store_3        store_4        store_5        store_6  \\\n",
      "count  230090.000000  230090.000000  230090.000000  230090.000000   \n",
      "mean        0.142857       0.142857       0.142857       0.142857   \n",
      "std         0.349928       0.349928       0.349928       0.349928   \n",
      "min         0.000000       0.000000       0.000000       0.000000   \n",
      "25%         0.000000       0.000000       0.000000       0.000000   \n",
      "50%         0.000000       0.000000       0.000000       0.000000   \n",
      "75%         0.000000       0.000000       0.000000       0.000000   \n",
      "max         1.000000       1.000000       1.000000       1.000000   \n",
      "\n",
      "           product_0      product_1      product_2      product_3  \\\n",
      "count  230090.000000  230090.000000  230090.000000  230090.000000   \n",
      "mean        0.100000       0.100000       0.100000       0.100000   \n",
      "std         0.300001       0.300001       0.300001       0.300001   \n",
      "min         0.000000       0.000000       0.000000       0.000000   \n",
      "25%         0.000000       0.000000       0.000000       0.000000   \n",
      "50%         0.000000       0.000000       0.000000       0.000000   \n",
      "75%         0.000000       0.000000       0.000000       0.000000   \n",
      "max         1.000000       1.000000       1.000000       1.000000   \n",
      "\n",
      "           product_4      product_5      product_6      product_7  \\\n",
      "count  230090.000000  230090.000000  230090.000000  230090.000000   \n",
      "mean        0.100000       0.100000       0.100000       0.100000   \n",
      "std         0.300001       0.300001       0.300001       0.300001   \n",
      "min         0.000000       0.000000       0.000000       0.000000   \n",
      "25%         0.000000       0.000000       0.000000       0.000000   \n",
      "50%         0.000000       0.000000       0.000000       0.000000   \n",
      "75%         0.000000       0.000000       0.000000       0.000000   \n",
      "max         1.000000       1.000000       1.000000       1.000000   \n",
      "\n",
      "           product_8      product_9  \n",
      "count  230090.000000  230090.000000  \n",
      "mean        0.100000       0.100000  \n",
      "std         0.300001       0.300001  \n",
      "min         0.000000       0.000000  \n",
      "25%         0.000000       0.000000  \n",
      "50%         0.000000       0.000000  \n",
      "75%         0.000000       0.000000  \n",
      "max         1.000000       1.000000  \n"
     ]
    },
    {
     "data": {
      "image/png": "[encoded data removed]",
      "text/plain": [
       "<Figure size 640x480 with 1 Axes>"
      ]
     },
     "metadata": {},
     "output_type": "display_data"
    }
   ],
   "source": [
    "#This is the description of the dataset after ttransforming our Date column into index.\n",
    "\n",
    "# Display the first few rows of the dataset\n",
    "print(df.head())\n",
    "\n",
    "# Check for missing values\n",
    "print(df.isnull().sum())\n",
    "\n",
    "# Visualize the data using scatter plots, histograms, etc.\n",
    "# For example, you can plot the distribution of the 'sold_numbers' column using a histogram:\n",
    "df['number_sold'].hist()\n",
    "\n",
    "# Compute summary statistics\n",
    "print(df.describe())\n"
   ]
  },
  {
   "cell_type": "code",
   "execution_count": 40,
   "id": "21a99ed6",
   "metadata": {},
   "outputs": [],
   "source": [
    "# Handle missing values\n",
    "# For example, you can fill in missing values with the median value of the column:\n",
    "df.fillna(df.median(), inplace=True)\n",
    "\n",
    "# Split the data into training and testing sets\n",
    "from sklearn.model_selection import train_test_split\n",
    "\n",
    "# Split the data into features and target variable\n",
    "X = df.drop(['number_sold'], axis=1)\n",
    "y = df['number_sold']\n",
    "\n",
    "X_train, X_test, y_train, y_test = train_test_split(X, y, test_size=0.2, random_state=42)\n"
   ]
  },
  {
   "cell_type": "code",
   "execution_count": 41,
   "id": "b433d3f4",
   "metadata": {},
   "outputs": [
    {
     "data": {
      "text/plain": [
       "184072"
      ]
     },
     "execution_count": 41,
     "metadata": {},
     "output_type": "execute_result"
    }
   ],
   "source": [
    "#Checking len of X_train\n",
    "len(X_train)"
   ]
  },
  {
   "cell_type": "code",
   "execution_count": 42,
   "id": "7fb85ab3",
   "metadata": {},
   "outputs": [
    {
     "data": {
      "text/plain": [
       "46018"
      ]
     },
     "execution_count": 42,
     "metadata": {},
     "output_type": "execute_result"
    }
   ],
   "source": [
    "#Checking len of y_train\n",
    "len(X_test)"
   ]
  },
  {
   "cell_type": "code",
   "execution_count": 43,
   "id": "ac539ab3",
   "metadata": {},
   "outputs": [
    {
     "name": "stdout",
     "output_type": "stream",
     "text": [
      "Mean squared error (MSE): 3411.94\n",
      "R-squared score: 0.92\n"
     ]
    }
   ],
   "source": [
    "# Train a linear regression model\n",
    "from sklearn.linear_model import LinearRegression\n",
    "\n",
    "model = LinearRegression()\n",
    "model.fit(X_train, y_train)\n",
    "\n",
    "# Evaluate the model on the testing set\n",
    "from sklearn.metrics import mean_squared_error, r2_score\n",
    "\n",
    "y_pred = model.predict(X_test)\n",
    "\n",
    "mse = mean_squared_error(y_test, y_pred)\n",
    "r2 = r2_score(y_test, y_pred)\n",
    "\n",
    "print(\"Mean squared error (MSE): {:.2f}\".format(mse))\n",
    "print(\"R-squared score: {:.2f}\".format(r2))\n"
   ]
  },
  {
   "cell_type": "code",
   "execution_count": 62,
   "id": "83f92c68",
   "metadata": {
    "scrolled": true
   },
   "outputs": [
    {
     "name": "stderr",
     "output_type": "stream",
     "text": [
      "C:\\Users\\Zawwar\\anaconda3_new\\lib\\site-packages\\sklearn\\base.py:439: UserWarning: X does not have valid feature names, but LinearRegression was fitted with feature names\n",
      "  warnings.warn(\n"
     ]
    },
    {
     "data": {
      "text/plain": [
       "array([793.9140625])"
      ]
     },
     "execution_count": 62,
     "metadata": {},
     "output_type": "execute_result"
    }
   ],
   "source": [
    "model.predict([[1,0,0,0,0,0,0,1,0,0,0,0,0,0,0,0,0]])"
   ]
  },
  {
   "cell_type": "code",
   "execution_count": 47,
   "id": "5a48b652",
   "metadata": {},
   "outputs": [
    {
     "name": "stdout",
     "output_type": "stream",
     "text": [
      "MSE of baseline model: 41866.370315773966\n"
     ]
    }
   ],
   "source": [
    "#CAlculating MSE with baseline model\n",
    "\n",
    "import pandas as pd\n",
    "from sklearn.metrics import mean_squared_error\n",
    "\n",
    "# Load the data\n",
    "df = pd.read_csv('train.csv')\n",
    "\n",
    "# Split the data into training and testing sets\n",
    "train_df = df[df['Date'] < '2011-01-01']\n",
    "test_df = df[df['Date'] >= '2011-01-01']\n",
    "\n",
    "# Calculate the mean of the sold_numbers column in the training set\n",
    "mean_sold_numbers = train_df['number_sold'].mean()\n",
    "\n",
    "# Create a list of predictions that is the same length as the testing set\n",
    "baseline_predictions = [mean_sold_numbers] * len(test_df)\n",
    "\n",
    "# Calculate the MSE of the baseline model on the testing set\n",
    "mse_baseline = mean_squared_error(test_df['number_sold'], baseline_predictions)\n",
    "\n",
    "print('MSE of baseline model:', mse_baseline)\n"
   ]
  },
  {
   "cell_type": "code",
   "execution_count": 48,
   "id": "f88f55b2",
   "metadata": {},
   "outputs": [
    {
     "name": "stdout",
     "output_type": "stream",
     "text": [
      "Mean squared error (MSE): 3411.94\n",
      "MSE of baseline model: 41866.370315773966\n"
     ]
    }
   ],
   "source": [
    "#Comparison between MSE of baseline model and linear model.\n",
    "\n",
    "print(\"Mean squared error (MSE): {:.2f}\".format(mse))\n",
    "print('MSE of baseline model:', mse_baseline)"
   ]
  },
  {
   "cell_type": "code",
   "execution_count": null,
   "id": "38164e0b",
   "metadata": {},
   "outputs": [],
   "source": []
  }
 ],
 "metadata": {
  "kernelspec": {
   "display_name": "Python 3 (ipykernel)",
   "language": "python",
   "name": "python3"
  },
  "language_info": {
   "codemirror_mode": {
    "name": "ipython",
    "version": 3
   },
   "file_extension": ".py",
   "mimetype": "text/x-python",
   "name": "python",
   "nbconvert_exporter": "python",
   "pygments_lexer": "ipython3",
   "version": "3.9.13"
  }
 },
 "nbformat": 4,
 "nbformat_minor": 5
}
